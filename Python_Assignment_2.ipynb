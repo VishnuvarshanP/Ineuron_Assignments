{
  "nbformat": 4,
  "nbformat_minor": 0,
  "metadata": {
    "colab": {
      "name": "Python Assignment 2.ipynb",
      "provenance": [],
      "collapsed_sections": []
    },
    "kernelspec": {
      "name": "python3",
      "display_name": "Python 3"
    },
    "language_info": {
      "name": "python"
    }
  },
  "cells": [
    {
      "cell_type": "markdown",
      "metadata": {
        "id": "e846iGFjtfQ8"
      },
      "source": [
        "**1. Create the below pattern using nested for loop in Python.**"
      ]
    },
    {
      "cell_type": "code",
      "metadata": {
        "colab": {
          "base_uri": "https://localhost:8080/"
        },
        "id": "99j5goyNtVKM",
        "outputId": "a4aa181d-b4be-41ff-ef11-7fc0692a195b"
      },
      "source": [
        "for i in range(1,6):\n",
        "  for j in range(1,i+1):\n",
        "    print('*',end=' ')\n",
        "  print('\\r')\n",
        "\n",
        "for i in range(6,1,-1):\n",
        "  for j in range(1,i-1):\n",
        "    print('*',end=' ')\n",
        "  print('\\r')"
      ],
      "execution_count": 6,
      "outputs": [
        {
          "output_type": "stream",
          "name": "stdout",
          "text": [
            "* \r\n",
            "* * \r\n",
            "* * * \r\n",
            "* * * * \r\n",
            "* * * * * \r\n",
            "* * * * \r\n",
            "* * * \r\n",
            "* * \r\n",
            "* \r\n",
            "\r\n"
          ]
        }
      ]
    },
    {
      "cell_type": "markdown",
      "metadata": {
        "id": "5SZS18yvv-Ph"
      },
      "source": [
        "2. Write a Python program to reverse a word after accepting the input from the user."
      ]
    },
    {
      "cell_type": "code",
      "metadata": {
        "colab": {
          "base_uri": "https://localhost:8080/"
        },
        "id": "FWr-vHv-t03z",
        "outputId": "3c7a87d9-896a-4552-ce81-bd7151983f05"
      },
      "source": [
        "word = input('Enter a word: ')\n",
        "print(word[::-1])"
      ],
      "execution_count": 7,
      "outputs": [
        {
          "output_type": "stream",
          "name": "stdout",
          "text": [
            "Enter a word: ineuron\n",
            "norueni\n"
          ]
        }
      ]
    }
  ]
}